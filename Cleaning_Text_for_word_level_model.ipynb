{
 "cells": [
  {
   "cell_type": "code",
   "execution_count": 1,
   "metadata": {
    "collapsed": true
   },
   "outputs": [],
   "source": [
    "d = open('path_to_\\Bible.txt','r').read()\n",
    "nd=[]\n",
    "for i in range(0,4047394):\n",
    "    flag=0\n",
    "    for ch in {':',',','.','!',';','?','ï','¿',')','(','-','»',\"'\"}:\n",
    "        if d[i]==ch:\n",
    "            flag=1\n",
    "    if flag==0:\n",
    "        nd.append(d[i])\n"
   ]
  },
  {
   "cell_type": "code",
   "execution_count": 7,
   "metadata": {},
   "outputs": [
    {
     "name": "stdout",
     "output_type": "stream",
     "text": [
      "['Z', 't', 'y', 'D', 'N', 'R', 'o', 'W', '\\n', 'G', 'B', 'h', 'E', 'l', 'C', 'v', 'e', 'i', 'A', 'r', 'S', 'd', 'm', 'k', 'T', 'Y', 's', 'a', 'O', 'f', 'J', 'p', 'K', 'x', 'u', 'L', 'M', 'P', 'g', 'F', 'U', 'I', 'n', ' ', 'Q', 'H', 'c', 'q', 'z', 'b', 'V', 'j', 'w']\n"
     ]
    }
   ],
   "source": [
    "print(list(set(nd)))"
   ]
  },
  {
   "cell_type": "code",
   "execution_count": 21,
   "metadata": {
    "collapsed": true
   },
   "outputs": [],
   "source": [
    "ndata = open('path_to_\\Bible_for_word.txt','w')\n",
    "for i in range(0,3923276):\n",
    "    ndata.write(nd[i])"
   ]
  }
 ],
 "metadata": {
  "kernelspec": {
   "display_name": "Python 3",
   "language": "python",
   "name": "python3"
  },
  "language_info": {
   "codemirror_mode": {
    "name": "ipython",
    "version": 3
   },
   "file_extension": ".py",
   "mimetype": "text/x-python",
   "name": "python",
   "nbconvert_exporter": "python",
   "pygments_lexer": "ipython3",
   "version": "3.6.2"
  }
 },
 "nbformat": 4,
 "nbformat_minor": 2
}
